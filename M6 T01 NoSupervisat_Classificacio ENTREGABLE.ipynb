{
 "cells": [
  {
   "cell_type": "markdown",
   "id": "bcf58e72",
   "metadata": {},
   "source": [
    "Nivell 1\n",
    "- Exercici 1\n",
    "Classifica els diferents vols utilitzant l'algorisme de K-means.\n",
    "\n",
    "Nivell 2\n",
    "- Exercici 2\n",
    "Classifica els diferents vols utilitzant l'algorisme de clustering jeràrquic.\n",
    "\n",
    "\n",
    "Nivell 3\n",
    "- Exercici 3\n",
    "Calcula el rendiment del clustering mitjançant un paràmetre com pot ser silhouette.\n"
   ]
  },
  {
   "cell_type": "code",
   "execution_count": 7,
   "id": "dfa618d6",
   "metadata": {},
   "outputs": [],
   "source": [
    "import pandas as pd\n",
    "import numpy as np\n",
    "import matplotlib.pyplot as plt\n",
    "import seaborn as sns\n",
    "import statsmodels.api as sm\n",
    "import xgboost as xgb\n",
    "import pydotplus\n",
    "import graphviz\n",
    "import datetime as dt\n",
    "import os\n",
    "os.environ[\"OMP_NUM_THREADS\"] = \"1\" # export OMP_NUM_THREADS=4\n",
    "import time\n",
    "\n",
    "#%matplotlib notebook per poder fer resize als plots interactius\n",
    "%matplotlib inline\n",
    "\n",
    "from sklearn import preprocessing\n",
    "from sklearn.preprocessing import LabelEncoder\n",
    "from sklearn.preprocessing import MinMaxScaler, StandardScaler\n",
    "from sklearn.linear_model import LogisticRegression\n",
    "from sklearn.decomposition import PCA\n",
    "from sklearn.pipeline import make_pipeline, Pipeline\n",
    "from sklearn.cluster import KMeans\n",
    "\n",
    "from sklearn.model_selection import train_test_split # Import train_test_split function\n",
    "from sklearn import metrics #Import scikit-learn metrics module for accuracy calculation\n",
    "from sklearn.metrics import mean_squared_error\n",
    "from sklearn.metrics import silhouette_score, adjusted_rand_score\n",
    "\n",
    "from kneed import KneeLocator"
   ]
  },
  {
   "cell_type": "markdown",
   "id": "070db88c",
   "metadata": {},
   "source": [
    "# pas 1: lectura del bloc de dades i neteja"
   ]
  },
  {
   "cell_type": "code",
   "execution_count": 8,
   "id": "c0dc8b1e",
   "metadata": {},
   "outputs": [],
   "source": [
    "# FUNCIO per trobar gaps al format del DF (fora nan's, mida i forma)\n",
    "def quick_analysis(df):\n",
    " #print('Data Types:')\n",
    " #print(df.dtypes)\n",
    " print('General Information:')\n",
    " flightsdf.info()\n",
    " print('Rows and Columns:')\n",
    " print(df.shape)\n",
    " print('Column Names:')\n",
    " print(df.columns)\n",
    " print('Null Values:')\n",
    " print(df.apply(lambda x: sum(x.isnull()) / len(df)))\n",
    " print('Samples')\n",
    " print(flightsdf.head())\n",
    " print(flightsdf.tail())"
   ]
  },
  {
   "cell_type": "code",
   "execution_count": 9,
   "id": "7db38d98",
   "metadata": {},
   "outputs": [
    {
     "name": "stderr",
     "output_type": "stream",
     "text": [
      "C:\\ProgramData\\Anaconda3\\lib\\site-packages\\numpy\\lib\\arraysetops.py:583: FutureWarning: elementwise comparison failed; returning scalar instead, but in the future will perform elementwise comparison\n",
      "  mask |= (ar1 == a)\n"
     ]
    }
   ],
   "source": [
    "#lectura del bloc de dades\n",
    "flightsdf=pd.read_csv('DelayedFlights.csv', index_col=0) #a vegades cal posar index_col=0 si no fos detectat inicialment"
   ]
  },
  {
   "cell_type": "code",
   "execution_count": 10,
   "id": "a2f12dfd",
   "metadata": {},
   "outputs": [
    {
     "data": {
      "text/html": [
       "<div>\n",
       "<style scoped>\n",
       "    .dataframe tbody tr th:only-of-type {\n",
       "        vertical-align: middle;\n",
       "    }\n",
       "\n",
       "    .dataframe tbody tr th {\n",
       "        vertical-align: top;\n",
       "    }\n",
       "\n",
       "    .dataframe thead th {\n",
       "        text-align: right;\n",
       "    }\n",
       "</style>\n",
       "<table border=\"1\" class=\"dataframe\">\n",
       "  <thead>\n",
       "    <tr style=\"text-align: right;\">\n",
       "      <th></th>\n",
       "      <th>Year</th>\n",
       "      <th>Month</th>\n",
       "      <th>DayofMonth</th>\n",
       "      <th>DayOfWeek</th>\n",
       "      <th>DepTime</th>\n",
       "      <th>CRSDepTime</th>\n",
       "      <th>ArrTime</th>\n",
       "      <th>CRSArrTime</th>\n",
       "      <th>UniqueCarrier</th>\n",
       "      <th>FlightNum</th>\n",
       "      <th>...</th>\n",
       "      <th>TaxiIn</th>\n",
       "      <th>TaxiOut</th>\n",
       "      <th>Cancelled</th>\n",
       "      <th>CancellationCode</th>\n",
       "      <th>Diverted</th>\n",
       "      <th>CarrierDelay</th>\n",
       "      <th>WeatherDelay</th>\n",
       "      <th>NASDelay</th>\n",
       "      <th>SecurityDelay</th>\n",
       "      <th>LateAircraftDelay</th>\n",
       "    </tr>\n",
       "  </thead>\n",
       "  <tbody>\n",
       "    <tr>\n",
       "      <th>0</th>\n",
       "      <td>2008</td>\n",
       "      <td>1</td>\n",
       "      <td>3</td>\n",
       "      <td>4</td>\n",
       "      <td>2003.0</td>\n",
       "      <td>1955</td>\n",
       "      <td>2211.0</td>\n",
       "      <td>2225</td>\n",
       "      <td>WN</td>\n",
       "      <td>335</td>\n",
       "      <td>...</td>\n",
       "      <td>4.0</td>\n",
       "      <td>8.0</td>\n",
       "      <td>0</td>\n",
       "      <td>N</td>\n",
       "      <td>0</td>\n",
       "      <td>NaN</td>\n",
       "      <td>NaN</td>\n",
       "      <td>NaN</td>\n",
       "      <td>NaN</td>\n",
       "      <td>NaN</td>\n",
       "    </tr>\n",
       "    <tr>\n",
       "      <th>1</th>\n",
       "      <td>2008</td>\n",
       "      <td>1</td>\n",
       "      <td>3</td>\n",
       "      <td>4</td>\n",
       "      <td>754.0</td>\n",
       "      <td>735</td>\n",
       "      <td>1002.0</td>\n",
       "      <td>1000</td>\n",
       "      <td>WN</td>\n",
       "      <td>3231</td>\n",
       "      <td>...</td>\n",
       "      <td>5.0</td>\n",
       "      <td>10.0</td>\n",
       "      <td>0</td>\n",
       "      <td>N</td>\n",
       "      <td>0</td>\n",
       "      <td>NaN</td>\n",
       "      <td>NaN</td>\n",
       "      <td>NaN</td>\n",
       "      <td>NaN</td>\n",
       "      <td>NaN</td>\n",
       "    </tr>\n",
       "    <tr>\n",
       "      <th>2</th>\n",
       "      <td>2008</td>\n",
       "      <td>1</td>\n",
       "      <td>3</td>\n",
       "      <td>4</td>\n",
       "      <td>628.0</td>\n",
       "      <td>620</td>\n",
       "      <td>804.0</td>\n",
       "      <td>750</td>\n",
       "      <td>WN</td>\n",
       "      <td>448</td>\n",
       "      <td>...</td>\n",
       "      <td>3.0</td>\n",
       "      <td>17.0</td>\n",
       "      <td>0</td>\n",
       "      <td>N</td>\n",
       "      <td>0</td>\n",
       "      <td>NaN</td>\n",
       "      <td>NaN</td>\n",
       "      <td>NaN</td>\n",
       "      <td>NaN</td>\n",
       "      <td>NaN</td>\n",
       "    </tr>\n",
       "    <tr>\n",
       "      <th>4</th>\n",
       "      <td>2008</td>\n",
       "      <td>1</td>\n",
       "      <td>3</td>\n",
       "      <td>4</td>\n",
       "      <td>1829.0</td>\n",
       "      <td>1755</td>\n",
       "      <td>1959.0</td>\n",
       "      <td>1925</td>\n",
       "      <td>WN</td>\n",
       "      <td>3920</td>\n",
       "      <td>...</td>\n",
       "      <td>3.0</td>\n",
       "      <td>10.0</td>\n",
       "      <td>0</td>\n",
       "      <td>N</td>\n",
       "      <td>0</td>\n",
       "      <td>2.0</td>\n",
       "      <td>0.0</td>\n",
       "      <td>0.0</td>\n",
       "      <td>0.0</td>\n",
       "      <td>32.0</td>\n",
       "    </tr>\n",
       "    <tr>\n",
       "      <th>5</th>\n",
       "      <td>2008</td>\n",
       "      <td>1</td>\n",
       "      <td>3</td>\n",
       "      <td>4</td>\n",
       "      <td>1940.0</td>\n",
       "      <td>1915</td>\n",
       "      <td>2121.0</td>\n",
       "      <td>2110</td>\n",
       "      <td>WN</td>\n",
       "      <td>378</td>\n",
       "      <td>...</td>\n",
       "      <td>4.0</td>\n",
       "      <td>10.0</td>\n",
       "      <td>0</td>\n",
       "      <td>N</td>\n",
       "      <td>0</td>\n",
       "      <td>NaN</td>\n",
       "      <td>NaN</td>\n",
       "      <td>NaN</td>\n",
       "      <td>NaN</td>\n",
       "      <td>NaN</td>\n",
       "    </tr>\n",
       "    <tr>\n",
       "      <th>6</th>\n",
       "      <td>2008</td>\n",
       "      <td>1</td>\n",
       "      <td>3</td>\n",
       "      <td>4</td>\n",
       "      <td>1937.0</td>\n",
       "      <td>1830</td>\n",
       "      <td>2037.0</td>\n",
       "      <td>1940</td>\n",
       "      <td>WN</td>\n",
       "      <td>509</td>\n",
       "      <td>...</td>\n",
       "      <td>3.0</td>\n",
       "      <td>7.0</td>\n",
       "      <td>0</td>\n",
       "      <td>N</td>\n",
       "      <td>0</td>\n",
       "      <td>10.0</td>\n",
       "      <td>0.0</td>\n",
       "      <td>0.0</td>\n",
       "      <td>0.0</td>\n",
       "      <td>47.0</td>\n",
       "    </tr>\n",
       "    <tr>\n",
       "      <th>10</th>\n",
       "      <td>2008</td>\n",
       "      <td>1</td>\n",
       "      <td>3</td>\n",
       "      <td>4</td>\n",
       "      <td>706.0</td>\n",
       "      <td>700</td>\n",
       "      <td>916.0</td>\n",
       "      <td>915</td>\n",
       "      <td>WN</td>\n",
       "      <td>100</td>\n",
       "      <td>...</td>\n",
       "      <td>5.0</td>\n",
       "      <td>19.0</td>\n",
       "      <td>0</td>\n",
       "      <td>N</td>\n",
       "      <td>0</td>\n",
       "      <td>NaN</td>\n",
       "      <td>NaN</td>\n",
       "      <td>NaN</td>\n",
       "      <td>NaN</td>\n",
       "      <td>NaN</td>\n",
       "    </tr>\n",
       "    <tr>\n",
       "      <th>11</th>\n",
       "      <td>2008</td>\n",
       "      <td>1</td>\n",
       "      <td>3</td>\n",
       "      <td>4</td>\n",
       "      <td>1644.0</td>\n",
       "      <td>1510</td>\n",
       "      <td>1845.0</td>\n",
       "      <td>1725</td>\n",
       "      <td>WN</td>\n",
       "      <td>1333</td>\n",
       "      <td>...</td>\n",
       "      <td>6.0</td>\n",
       "      <td>8.0</td>\n",
       "      <td>0</td>\n",
       "      <td>N</td>\n",
       "      <td>0</td>\n",
       "      <td>8.0</td>\n",
       "      <td>0.0</td>\n",
       "      <td>0.0</td>\n",
       "      <td>0.0</td>\n",
       "      <td>72.0</td>\n",
       "    </tr>\n",
       "    <tr>\n",
       "      <th>15</th>\n",
       "      <td>2008</td>\n",
       "      <td>1</td>\n",
       "      <td>3</td>\n",
       "      <td>4</td>\n",
       "      <td>1029.0</td>\n",
       "      <td>1020</td>\n",
       "      <td>1021.0</td>\n",
       "      <td>1010</td>\n",
       "      <td>WN</td>\n",
       "      <td>2272</td>\n",
       "      <td>...</td>\n",
       "      <td>6.0</td>\n",
       "      <td>9.0</td>\n",
       "      <td>0</td>\n",
       "      <td>N</td>\n",
       "      <td>0</td>\n",
       "      <td>NaN</td>\n",
       "      <td>NaN</td>\n",
       "      <td>NaN</td>\n",
       "      <td>NaN</td>\n",
       "      <td>NaN</td>\n",
       "    </tr>\n",
       "    <tr>\n",
       "      <th>16</th>\n",
       "      <td>2008</td>\n",
       "      <td>1</td>\n",
       "      <td>3</td>\n",
       "      <td>4</td>\n",
       "      <td>1452.0</td>\n",
       "      <td>1425</td>\n",
       "      <td>1640.0</td>\n",
       "      <td>1625</td>\n",
       "      <td>WN</td>\n",
       "      <td>675</td>\n",
       "      <td>...</td>\n",
       "      <td>7.0</td>\n",
       "      <td>8.0</td>\n",
       "      <td>0</td>\n",
       "      <td>N</td>\n",
       "      <td>0</td>\n",
       "      <td>3.0</td>\n",
       "      <td>0.0</td>\n",
       "      <td>0.0</td>\n",
       "      <td>0.0</td>\n",
       "      <td>12.0</td>\n",
       "    </tr>\n",
       "  </tbody>\n",
       "</table>\n",
       "<p>10 rows × 29 columns</p>\n",
       "</div>"
      ],
      "text/plain": [
       "    Year  Month  DayofMonth  DayOfWeek  DepTime  CRSDepTime  ArrTime  \\\n",
       "0   2008      1           3          4   2003.0        1955   2211.0   \n",
       "1   2008      1           3          4    754.0         735   1002.0   \n",
       "2   2008      1           3          4    628.0         620    804.0   \n",
       "4   2008      1           3          4   1829.0        1755   1959.0   \n",
       "5   2008      1           3          4   1940.0        1915   2121.0   \n",
       "6   2008      1           3          4   1937.0        1830   2037.0   \n",
       "10  2008      1           3          4    706.0         700    916.0   \n",
       "11  2008      1           3          4   1644.0        1510   1845.0   \n",
       "15  2008      1           3          4   1029.0        1020   1021.0   \n",
       "16  2008      1           3          4   1452.0        1425   1640.0   \n",
       "\n",
       "    CRSArrTime UniqueCarrier  FlightNum  ... TaxiIn  TaxiOut  Cancelled  \\\n",
       "0         2225            WN        335  ...    4.0      8.0          0   \n",
       "1         1000            WN       3231  ...    5.0     10.0          0   \n",
       "2          750            WN        448  ...    3.0     17.0          0   \n",
       "4         1925            WN       3920  ...    3.0     10.0          0   \n",
       "5         2110            WN        378  ...    4.0     10.0          0   \n",
       "6         1940            WN        509  ...    3.0      7.0          0   \n",
       "10         915            WN        100  ...    5.0     19.0          0   \n",
       "11        1725            WN       1333  ...    6.0      8.0          0   \n",
       "15        1010            WN       2272  ...    6.0      9.0          0   \n",
       "16        1625            WN        675  ...    7.0      8.0          0   \n",
       "\n",
       "    CancellationCode  Diverted  CarrierDelay WeatherDelay NASDelay  \\\n",
       "0                  N         0           NaN          NaN      NaN   \n",
       "1                  N         0           NaN          NaN      NaN   \n",
       "2                  N         0           NaN          NaN      NaN   \n",
       "4                  N         0           2.0          0.0      0.0   \n",
       "5                  N         0           NaN          NaN      NaN   \n",
       "6                  N         0          10.0          0.0      0.0   \n",
       "10                 N         0           NaN          NaN      NaN   \n",
       "11                 N         0           8.0          0.0      0.0   \n",
       "15                 N         0           NaN          NaN      NaN   \n",
       "16                 N         0           3.0          0.0      0.0   \n",
       "\n",
       "    SecurityDelay  LateAircraftDelay  \n",
       "0             NaN                NaN  \n",
       "1             NaN                NaN  \n",
       "2             NaN                NaN  \n",
       "4             0.0               32.0  \n",
       "5             NaN                NaN  \n",
       "6             0.0               47.0  \n",
       "10            NaN                NaN  \n",
       "11            0.0               72.0  \n",
       "15            NaN                NaN  \n",
       "16            0.0               12.0  \n",
       "\n",
       "[10 rows x 29 columns]"
      ]
     },
     "execution_count": 10,
     "metadata": {},
     "output_type": "execute_result"
    }
   ],
   "source": [
    "#elimino els que NO han volat (airtime=0 o cancellats)\n",
    "flightsdf.drop(flightsdf[flightsdf.AirTime==0].index, inplace=True) #, axis=0, inplace=True)\n",
    "flightsdf.drop(flightsdf[flightsdf.Cancelled!=0].index, inplace=True)\n",
    "\n",
    "flightsdf.head(10)"
   ]
  },
  {
   "cell_type": "code",
   "execution_count": 11,
   "id": "4470efbf",
   "metadata": {},
   "outputs": [
    {
     "data": {
      "text/plain": [
       "ORD    108909\n",
       "ATL    106872\n",
       "DFW     70642\n",
       "DEN     62989\n",
       "LAX     59954\n",
       "        ...  \n",
       "INL         9\n",
       "PIR         3\n",
       "CYS         1\n",
       "TUP         1\n",
       "OGD         1\n",
       "Name: Dest, Length: 304, dtype: int64"
      ]
     },
     "execution_count": 11,
     "metadata": {},
     "output_type": "execute_result"
    }
   ],
   "source": [
    "#reduccio dimensional d'entrada\n",
    "\n",
    "pd.value_counts(flightsdf['Origin']) # es podria agafar només el TOP 20%, pel criteri de Pareto\n",
    "\n",
    "pd.value_counts(flightsdf['Dest']) # es podria agafar només el TOP 20%, pel criteri de Pareto"
   ]
  },
  {
   "cell_type": "code",
   "execution_count": 12,
   "id": "43801c27",
   "metadata": {},
   "outputs": [
    {
     "name": "stdout",
     "output_type": "stream",
     "text": [
      "Origins baseline\n",
      "SUX    22\n",
      "PLN    21\n",
      "WYS    10\n",
      "HTS    10\n",
      "BLI     4\n",
      "BJI     4\n",
      "PIR     3\n",
      "PUB     2\n",
      "INL     1\n",
      "TUP     1\n",
      "Name: Origin, dtype: int64\n",
      "Origins cleared\n",
      "SUX    22\n",
      "PLN    21\n",
      "WYS    10\n",
      "HTS    10\n",
      "BLI     4\n",
      "BJI     4\n",
      "PIR     3\n",
      "PUB     2\n",
      "INL     1\n",
      "TUP     1\n",
      "Name: Origin, dtype: int64\n",
      "Destinations baseline\n",
      "ADK    30\n",
      "SUX    28\n",
      "ITH    16\n",
      "BLI    13\n",
      "BJI    12\n",
      "INL     9\n",
      "PIR     3\n",
      "CYS     1\n",
      "TUP     1\n",
      "OGD     1\n",
      "Name: Dest, dtype: int64\n",
      "Destinations cleared\n",
      "ADK    30\n",
      "SUX    28\n",
      "ITH    16\n",
      "BLI    13\n",
      "BJI    12\n",
      "INL     9\n",
      "PIR     3\n",
      "CYS     1\n",
      "TUP     1\n",
      "OGD     1\n",
      "Name: Dest, dtype: int64\n"
     ]
    }
   ],
   "source": [
    "#creació de llista amb tail 100 a 'Origin' i 'Dest'\n",
    "#selecció 100 amb menys trafic\n",
    "#concatenació amb operador OR | en llista\n",
    "#identificacio files a eliminar per contingut amb loc['Origin']o loc('Dest')\n",
    "\n",
    "# Ho elimino per Origin\n",
    "categorical=flightsdf['Origin'].value_counts()\n",
    "print('Origins baseline')\n",
    "print(categorical[-10:])\n",
    "drop_values =  list(categorical.keys())[-150:]\n",
    "flightsdf[~flightsdf['Origin'].str.contains('|'.join(drop_values))]\n",
    "categorical=flightsdf['Origin'].value_counts()\n",
    "print('Origins cleared')\n",
    "print(categorical[-10:])\n",
    "\n",
    "# Ho elimino per Dest\n",
    "categorical=flightsdf['Dest'].value_counts()\n",
    "print('Destinations baseline')\n",
    "print(categorical[-10:])\n",
    "drop_values =  list(categorical.keys())[-150:]\n",
    "flightsdf[~flightsdf['Dest'].str.contains('|'.join(drop_values))]\n",
    "categorical=flightsdf['Dest'].value_counts()\n",
    "print('Destinations cleared')\n",
    "print(categorical[-10:])\n",
    "\n",
    "## NO FUNCIONA !!!!!!!!!!!!!!!!!!"
   ]
  },
  {
   "cell_type": "code",
   "execution_count": 13,
   "id": "2e922292",
   "metadata": {},
   "outputs": [],
   "source": [
    "flightsdf['DepDate'] =flightsdf['Year']*10000+flightsdf['Month']*100+flightsdf['DayofMonth']\n",
    "#posa les dates a un enter per tal de manipular les hores"
   ]
  },
  {
   "cell_type": "code",
   "execution_count": 14,
   "id": "ab97075b",
   "metadata": {},
   "outputs": [],
   "source": [
    "#Forço les hores a termes absoluts per poder estandarditzar només importa que les hores siguin CONTINUES\n",
    "# .dt.time extreu de datetime64 a object amb HH:MM:SS, no interessa\n",
    "\n",
    "flightsdf['DepTime'] = pd.to_datetime((flightsdf['DepTime']+flightsdf['DepDate']*10000), errors='coerce', format='%Y%m%d%H%M')\n",
    "flightsdf['CRSDepTime'] = pd.to_datetime((flightsdf['CRSDepTime']+flightsdf['DepDate']*10000), errors='coerce', format='%Y%m%d%H%M')\n",
    "flightsdf['ArrTime'] = pd.to_datetime((flightsdf['ArrTime']+flightsdf['DepDate']*10000), errors='coerce', format='%Y%m%d%H%M')\n",
    "flightsdf['CRSArrTime'] = pd.to_datetime((flightsdf['CRSArrTime']+flightsdf['DepDate']*10000), errors='coerce', format='%Y%m%d%H%M')\n",
    "\n",
    "flightsdf['DepDate']= pd.to_datetime(flightsdf['DepDate'], format='%Y%m%d')\n",
    "#retorna datetimes arreu"
   ]
  },
  {
   "cell_type": "code",
   "execution_count": 15,
   "id": "78d68c4f",
   "metadata": {},
   "outputs": [],
   "source": [
    "flightsdf.drop(['Year', 'Month', 'DayofMonth', 'Cancelled','CancellationCode', 'TailNum', 'Diverted', 'UniqueCarrier', 'FlightNum'], axis=1, inplace=True)\n",
    "flightsdf.dropna(inplace=True) #puc eliminar els NaN en general, que no tenen retard. Els podria posar en un *df* de control\n",
    "\n",
    "# flightsdf.fillna(0) # o elimino els nan passant-los a 0\n",
    "# com que UniqueCarrier concatenat amb FlightNum tenen assignades una hora de sortida determinada s'eliminen també"
   ]
  },
  {
   "cell_type": "code",
   "execution_count": 16,
   "id": "024685a9",
   "metadata": {},
   "outputs": [
    {
     "data": {
      "text/plain": [
       "array([[<AxesSubplot:title={'center':'DayOfWeek'}>,\n",
       "        <AxesSubplot:title={'center':'ActualElapsedTime'}>,\n",
       "        <AxesSubplot:title={'center':'CRSElapsedTime'}>,\n",
       "        <AxesSubplot:title={'center':'AirTime'}>],\n",
       "       [<AxesSubplot:title={'center':'ArrDelay'}>,\n",
       "        <AxesSubplot:title={'center':'DepDelay'}>,\n",
       "        <AxesSubplot:title={'center':'Distance'}>,\n",
       "        <AxesSubplot:title={'center':'TaxiIn'}>],\n",
       "       [<AxesSubplot:title={'center':'TaxiOut'}>,\n",
       "        <AxesSubplot:title={'center':'CarrierDelay'}>,\n",
       "        <AxesSubplot:title={'center':'WeatherDelay'}>,\n",
       "        <AxesSubplot:title={'center':'NASDelay'}>],\n",
       "       [<AxesSubplot:title={'center':'SecurityDelay'}>,\n",
       "        <AxesSubplot:title={'center':'LateAircraftDelay'}>,\n",
       "        <AxesSubplot:>, <AxesSubplot:>]], dtype=object)"
      ]
     },
     "execution_count": 16,
     "metadata": {},
     "output_type": "execute_result"
    },
    {
     "data": {
      "image/png": "[encoded data removed]",
      "text/plain": [
       "<Figure size 1008x1008 with 16 Axes>"
      ]
     },
     "metadata": {
      "needs_background": "light"
     },
     "output_type": "display_data"
    }
   ],
   "source": [
    "# grafico per tenir una idea de l'estat de les variables numèriques float o int\n",
    "flightsdf[flightsdf.dtypes[(flightsdf.dtypes==\"float64\")|(flightsdf.dtypes==\"int64\")]\n",
    "                        .index.values].hist(figsize=[14,14])"
   ]
  },
  {
   "cell_type": "markdown",
   "id": "f4a49b06",
   "metadata": {},
   "source": [
    "### NETEJA: preprocessing required: all vars must be numpy float64 compatible.\n",
    "####  transforming timestamps to normalized numerical\n",
    "nflightsdf=flightsdf[['DepDate','DepTime', 'CRSDepTime','ArrTime','CRSArrTime']]"
   ]
  },
  {
   "cell_type": "code",
   "execution_count": 17,
   "id": "c8470cf3",
   "metadata": {},
   "outputs": [],
   "source": [
    "# Function to convert datetime64 objects to float64 (normalitza, no estandarditza)\n",
    "\n",
    "#PRE: entren datetime64 i int64\n",
    "\n",
    "#transformo la darrera variable que necessito a float64\n",
    "flightsdf['Distance']=flightsdf['Distance'].astype('float64')\n",
    "\n",
    "# Normalize function the DF using min/max scaler (may use StandardScaler if so required)\n",
    "def normalize(df):\n",
    "    scaler = MinMaxScaler(feature_range=(0, 1))\n",
    "    dates_scaled = scaler.fit_transform(df)\n",
    "    return dates_scaled\n",
    "\n",
    "# Normalization call (1st datetimes, 2nd floats)\n",
    "flightsdf[['DepDate','DepTime', 'CRSDepTime','ArrTime','CRSArrTime']] = normalize(flightsdf[['DepDate', 'DepTime', 'CRSDepTime','ArrTime','CRSArrTime']])\n",
    "flightsdf[['ActualElapsedTime', 'CRSElapsedTime', 'AirTime', 'ArrDelay','DepDelay', 'Distance', 'TaxiIn', 'TaxiOut',\n",
    "           'CarrierDelay', 'WeatherDelay', 'NASDelay', 'SecurityDelay',\n",
    "       'LateAircraftDelay']] = normalize(flightsdf[['ActualElapsedTime','CRSElapsedTime', 'AirTime', 'ArrDelay','DepDelay',\n",
    "                                                    'Distance', 'TaxiIn', 'TaxiOut', 'CarrierDelay', 'WeatherDelay', 'NASDelay',\n",
    "                                                    'SecurityDelay', 'LateAircraftDelay']])\n",
    "\n",
    "#POST: surten float64 normalitzats. ALERTA: retards amb canvi de data poden muntar un sidral per DATE+n hores"
   ]
  },
  {
   "cell_type": "code",
   "execution_count": 18,
   "id": "7fff0493",
   "metadata": {},
   "outputs": [
    {
     "name": "stdout",
     "output_type": "stream",
     "text": [
      "General Information:\n",
      "<class 'pandas.core.frame.DataFrame'>\n",
      "Int64Index: 1246117 entries, 4 to 7009718\n",
      "Data columns (total 21 columns):\n",
      " #   Column             Non-Null Count    Dtype  \n",
      "---  ------             --------------    -----  \n",
      " 0   DayOfWeek          1246117 non-null  int64  \n",
      " 1   DepTime            1246117 non-null  float64\n",
      " 2   CRSDepTime         1246117 non-null  float64\n",
      " 3   ArrTime            1246117 non-null  float64\n",
      " 4   CRSArrTime         1246117 non-null  float64\n",
      " 5   ActualElapsedTime  1246117 non-null  float64\n",
      " 6   CRSElapsedTime     1246117 non-null  float64\n",
      " 7   AirTime            1246117 non-null  float64\n",
      " 8   ArrDelay           1246117 non-null  float64\n",
      " 9   DepDelay           1246117 non-null  float64\n",
      " 10  Origin             1246117 non-null  object \n",
      " 11  Dest               1246117 non-null  object \n",
      " 12  Distance           1246117 non-null  float64\n",
      " 13  TaxiIn             1246117 non-null  float64\n",
      " 14  TaxiOut            1246117 non-null  float64\n",
      " 15  CarrierDelay       1246117 non-null  float64\n",
      " 16  WeatherDelay       1246117 non-null  float64\n",
      " 17  NASDelay           1246117 non-null  float64\n",
      " 18  SecurityDelay      1246117 non-null  float64\n",
      " 19  LateAircraftDelay  1246117 non-null  float64\n",
      " 20  DepDate            1246117 non-null  float64\n",
      "dtypes: float64(18), int64(1), object(2)\n",
      "memory usage: 209.2+ MB\n",
      "Rows and Columns:\n",
      "(1246117, 21)\n",
      "Column Names:\n",
      "Index(['DayOfWeek', 'DepTime', 'CRSDepTime', 'ArrTime', 'CRSArrTime',\n",
      "       'ActualElapsedTime', 'CRSElapsedTime', 'AirTime', 'ArrDelay',\n",
      "       'DepDelay', 'Origin', 'Dest', 'Distance', 'TaxiIn', 'TaxiOut',\n",
      "       'CarrierDelay', 'WeatherDelay', 'NASDelay', 'SecurityDelay',\n",
      "       'LateAircraftDelay', 'DepDate'],\n",
      "      dtype='object')\n",
      "Null Values:\n",
      "DayOfWeek            0.0\n",
      "DepTime              0.0\n",
      "CRSDepTime           0.0\n",
      "ArrTime              0.0\n",
      "CRSArrTime           0.0\n",
      "ActualElapsedTime    0.0\n",
      "CRSElapsedTime       0.0\n",
      "AirTime              0.0\n",
      "ArrDelay             0.0\n",
      "DepDelay             0.0\n",
      "Origin               0.0\n",
      "Dest                 0.0\n",
      "Distance             0.0\n",
      "TaxiIn               0.0\n",
      "TaxiOut              0.0\n",
      "CarrierDelay         0.0\n",
      "WeatherDelay         0.0\n",
      "NASDelay             0.0\n",
      "SecurityDelay        0.0\n",
      "LateAircraftDelay    0.0\n",
      "DepDate              0.0\n",
      "dtype: float64\n",
      "Samples\n",
      "    DayOfWeek   DepTime  CRSDepTime   ArrTime  CRSArrTime  ActualElapsedTime  \\\n",
      "4           4  0.007567    0.007429  0.007738    0.007673           0.069091   \n",
      "6           4  0.007696    0.007495  0.007810    0.007702           0.205455   \n",
      "11          4  0.007368    0.007116  0.007597    0.007445           0.097273   \n",
      "16          4  0.007155    0.007030  0.007360    0.007332           0.194545   \n",
      "18          4  0.006986    0.006860  0.007220    0.007189           0.099091   \n",
      "\n",
      "    CRSElapsedTime   AirTime  ArrDelay  DepDelay  ... Dest  Distance  \\\n",
      "4         0.162996  0.069725  0.007768  0.011377  ...  BWI  0.101798   \n",
      "6         0.397944  0.210092  0.017171  0.024787  ...  LAS  0.319127   \n",
      "11        0.229075  0.097248  0.026574  0.035758  ...  MCO  0.165017   \n",
      "16        0.383260  0.194495  0.000000  0.008533  ...  PHX  0.298526   \n",
      "18        0.229075  0.100000  0.000409  0.008939  ...  TPA  0.167037   \n",
      "\n",
      "      TaxiIn   TaxiOut  CarrierDelay  WeatherDelay  NASDelay  SecurityDelay  \\\n",
      "4   0.012500  0.023697      0.000821           0.0       0.0            0.0   \n",
      "6   0.012500  0.016588      0.004105           0.0       0.0            0.0   \n",
      "11  0.025000  0.018957      0.003284           0.0       0.0            0.0   \n",
      "16  0.029167  0.018957      0.001232           0.0       0.0            0.0   \n",
      "18  0.016667  0.021327      0.000000           0.0       0.0            0.0   \n",
      "\n",
      "    LateAircraftDelay   DepDate  \n",
      "4            0.024316  0.005479  \n",
      "6            0.035714  0.005479  \n",
      "11           0.054711  0.005479  \n",
      "16           0.009119  0.005479  \n",
      "18           0.012158  0.005479  \n",
      "\n",
      "[5 rows x 21 columns]\n",
      "         DayOfWeek   DepTime  CRSDepTime   ArrTime  CRSArrTime  \\\n",
      "7009705          6  0.949155    0.949053  0.949364    0.949243   \n",
      "7009709          6  0.949897    0.949831  0.950091    0.950059   \n",
      "7009710          6  0.949552    0.949489  0.949943    0.949895   \n",
      "7009717          6  0.948882    0.948768  0.949121    0.948979   \n",
      "7009718          6  0.949243    0.949085  0.949434    0.949247   \n",
      "\n",
      "         ActualElapsedTime  CRSElapsedTime   AirTime  ArrDelay  DepDelay  ...  \\\n",
      "7009705           0.088182        0.174743  0.074312  0.020033  0.018285  ...   \n",
      "7009709           0.026364        0.116006  0.023853  0.000818  0.010565  ...   \n",
      "7009710           0.120909        0.254038  0.109174  0.004088  0.009752  ...   \n",
      "7009717           0.102727        0.190896  0.070642  0.024530  0.020723  ...   \n",
      "7009718           0.134545        0.240822  0.111009  0.034342  0.030069  ...   \n",
      "\n",
      "        Dest  Distance    TaxiIn   TaxiOut  CarrierDelay  WeatherDelay  \\\n",
      "7009705  PBI  0.107857  0.033333  0.049763      0.020936       0.00000   \n",
      "7009709  ATL  0.028277  0.037500  0.016588      0.000000       0.00000   \n",
      "7009710  ATL  0.180772  0.037500  0.042654      0.001232       0.00000   \n",
      "7009717  ATL  0.094930  0.062500  0.080569      0.000000       0.04216   \n",
      "7009718  IAH  0.136942  0.033333  0.075829      0.000411       0.00000   \n",
      "\n",
      "         NASDelay  SecurityDelay  LateAircraftDelay   DepDate  \n",
      "7009705  0.009580            0.0           0.000000  0.950685  \n",
      "7009709  0.000000            0.0           0.012918  0.950685  \n",
      "7009710  0.000000            0.0           0.016717  0.950685  \n",
      "7009717  0.013265            0.0           0.000000  0.950685  \n",
      "7009718  0.014001            0.0           0.060030  0.950685  \n",
      "\n",
      "[5 rows x 21 columns]\n"
     ]
    }
   ],
   "source": [
    "quick_analysis(flightsdf)"
   ]
  },
  {
   "cell_type": "markdown",
   "id": "9cf56ac7",
   "metadata": {},
   "source": [
    "# queda transformar les 2 vars OBJECT i (dia de la setmana) a sparsematrix "
   ]
  },
  {
   "cell_type": "code",
   "execution_count": 19,
   "id": "ab6bd6fb",
   "metadata": {},
   "outputs": [],
   "source": [
    "#codifico TOTES les columnes significatives\n",
    "dummy_cols = ['DayOfWeek','Dest', 'Origin']\n",
    "flightsdf = pd.get_dummies(flightsdf, columns = dummy_cols) \n",
    "\n",
    "#flightsdf.drop(['Dest', 'Origin'], axis=1, inplace=True)"
   ]
  },
  {
   "cell_type": "code",
   "execution_count": 20,
   "id": "b8a970d0",
   "metadata": {},
   "outputs": [],
   "source": [
    "# eliminant DepDelay, buscariem prediccio de ArrDelay\n",
    "#flightsdf.drop(['DepDelay], axis=1, inplace=True)"
   ]
  },
  {
   "cell_type": "markdown",
   "id": "d7e3e948",
   "metadata": {},
   "source": [
    "# PAS 2: Preparació del model\n",
    "\n",
    "1) estandarditzacio features\n",
    "2) generacio del model\n",
    "3) fit\n",
    "4) validació"
   ]
  },
  {
   "cell_type": "code",
   "execution_count": 21,
   "id": "5443be0c",
   "metadata": {},
   "outputs": [],
   "source": [
    "#removing 'ArrDelay' as target / label, mantenim flightsdf com a dataset COMPLET\n",
    "targetdf=flightsdf['ArrDelay']\n",
    "featuredf = flightsdf.drop(['ArrDelay'], axis=1)"
   ]
  },
  {
   "cell_type": "markdown",
   "id": "1546a9a4",
   "metadata": {},
   "source": [
    "### Cal reduir dimensionalment Array with shape (1246117, 627) + (1246117,) però no tinc memoria com per fer una PCA sobre tot el bloc ... faré una PCA sobre un SUBSET \"training\"\n"
   ]
  },
  {
   "cell_type": "code",
   "execution_count": 22,
   "id": "afd26afa",
   "metadata": {},
   "outputs": [],
   "source": [
    "#defineixo\n",
    "#dataset es flightsdf\n",
    "#featuredf conté tot menys ArrDelay\n",
    "#targetdf conté els valors dels retards ArrDelay\n",
    "\n",
    "#separo en training i test: test size= proporció de TEST \n",
    "train_flights, test_flights, train_delay, test_delay = train_test_split(\n",
    "    featuredf, targetdf, test_size=0.8, random_state=31416) "
   ]
  },
  {
   "cell_type": "code",
   "execution_count": 23,
   "id": "21902201",
   "metadata": {},
   "outputs": [],
   "source": [
    "# ho faig en pipeline per jugar, no seria necessari\n",
    "\n",
    "preprocessor = Pipeline(\n",
    "    [\n",
    "        #(\"scaler\", MinMaxScaler(feature_range=(-1, 1))), #already done in ETL\n",
    "        (\"pca\", PCA(n_components=5, random_state=31)),\n",
    "    ]\n",
    ")\n"
   ]
  },
  {
   "cell_type": "code",
   "execution_count": 24,
   "id": "71420386",
   "metadata": {},
   "outputs": [],
   "source": [
    "clusterer = Pipeline(\n",
    "   [\n",
    "       (\n",
    "           \"kmeans\",\n",
    "           KMeans(\n",
    "               n_clusters=60,\n",
    "               init=\"k-means++\",\n",
    "               n_init=50,\n",
    "               max_iter=5,\n",
    "               random_state=42,\n",
    "           ),\n",
    "       ),\n",
    "   ]\n",
    ")"
   ]
  },
  {
   "cell_type": "code",
   "execution_count": 25,
   "id": "4b4b6103",
   "metadata": {},
   "outputs": [],
   "source": [
    "pipe = Pipeline(\n",
    "    [\n",
    "        (\"preprocessor\", preprocessor),\n",
    "        (\"clusterer\", clusterer)\n",
    "    ]\n",
    ")"
   ]
  },
  {
   "cell_type": "code",
   "execution_count": 26,
   "id": "bbc15e77",
   "metadata": {},
   "outputs": [
    {
     "data": {
      "text/plain": [
       "Pipeline(steps=[('preprocessor',\n",
       "                 Pipeline(steps=[('pca',\n",
       "                                  PCA(n_components=5, random_state=31))])),\n",
       "                ('clusterer',\n",
       "                 Pipeline(steps=[('kmeans',\n",
       "                                  KMeans(max_iter=5, n_clusters=60, n_init=50,\n",
       "                                         random_state=42))]))])"
      ]
     },
     "execution_count": 26,
     "metadata": {},
     "output_type": "execute_result"
    }
   ],
   "source": [
    "pipe.fit(train_flights)"
   ]
  },
  {
   "cell_type": "code",
   "execution_count": 27,
   "id": "9cdee887",
   "metadata": {},
   "outputs": [],
   "source": [
    "preprocessed_data = pipe[\"preprocessor\"].transform(train_flights)\n",
    "# no trobo tan util el pipeline si per treure resultats intermitjos has de recalcular-los\n",
    "# potser millor el proper cop ho desglosso directament"
   ]
  },
  {
   "cell_type": "code",
   "execution_count": 28,
   "id": "aacd89eb",
   "metadata": {},
   "outputs": [],
   "source": [
    "predicted_labels = pipe[\"clusterer\"][\"kmeans\"].labels_"
   ]
  },
  {
   "cell_type": "code",
   "execution_count": 29,
   "id": "f5ae5d8b",
   "metadata": {},
   "outputs": [
    {
     "data": {
      "text/plain": [
       "array([13,  2, 50, ..., 17, 50, 32])"
      ]
     },
     "execution_count": 29,
     "metadata": {},
     "output_type": "execute_result"
    }
   ],
   "source": [
    "predicted_labels # numpy array"
   ]
  },
  {
   "cell_type": "code",
   "execution_count": 30,
   "id": "bbe5a8ab",
   "metadata": {},
   "outputs": [
    {
     "data": {
      "text/plain": [
       "1285.2567521789927"
      ]
     },
     "execution_count": 30,
     "metadata": {},
     "output_type": "execute_result"
    }
   ],
   "source": [
    "# The lowest SSE value\n",
    "pipe[\"clusterer\"][\"kmeans\"].inertia_"
   ]
  },
  {
   "cell_type": "code",
   "execution_count": 31,
   "id": "3a78fcad",
   "metadata": {
    "scrolled": false
   },
   "outputs": [
    {
     "data": {
      "text/plain": [
       "0.5311302241828035"
      ]
     },
     "execution_count": 31,
     "metadata": {},
     "output_type": "execute_result"
    }
   ],
   "source": [
    "silhouette_score(preprocessed_data, predicted_labels)"
   ]
  },
  {
   "cell_type": "code",
   "execution_count": 32,
   "id": "66b774df",
   "metadata": {
    "scrolled": true
   },
   "outputs": [
    {
     "name": "stderr",
     "output_type": "stream",
     "text": [
      "C:\\ProgramData\\Anaconda3\\lib\\site-packages\\sklearn\\metrics\\cluster\\_supervised.py:65: UserWarning: Clustering metrics expects discrete values but received continuous values for label, and multiclass values for target\n",
      "  warnings.warn(msg, UserWarning)\n"
     ]
    },
    {
     "data": {
      "text/plain": [
       "-0.00017627074720374646"
      ]
     },
     "execution_count": 32,
     "metadata": {},
     "output_type": "execute_result"
    }
   ],
   "source": [
    "adjusted_rand_score(train_delay, predicted_labels)"
   ]
  },
  {
   "cell_type": "code",
   "execution_count": 33,
   "id": "bfa3e116",
   "metadata": {},
   "outputs": [
    {
     "data": {
      "text/plain": [
       "array([[-0.1333302 , -0.21926686, -0.10045682,  0.79264039, -0.39601963],\n",
       "       [-0.01860988, -0.13230498, -0.02550803,  0.04299059,  0.4944561 ],\n",
       "       [ 0.03851232, -0.23853348, -0.6388821 , -0.51360448, -0.32351593],\n",
       "       [ 0.35208459,  0.89374785,  0.03439718, -0.03523672, -0.0833041 ],\n",
       "       [ 0.06455893, -0.26688223,  0.76295751, -0.32738409, -0.27178557],\n",
       "       [-0.69227237,  0.87333664,  0.00816702, -0.01853875, -0.09752476],\n",
       "       [-0.53809118, -0.15049085, -0.04976424,  0.05823704,  0.63077178],\n",
       "       [ 1.12091304, -0.05080388,  0.02106874, -0.00173665,  0.10640009],\n",
       "       [-0.95037923, -0.28736014,  0.73716319, -0.31116064, -0.28566947],\n",
       "       [ 0.85389989, -0.19911868, -0.07521568,  0.77741119, -0.3842602 ],\n",
       "       [ 1.10045567, -0.21715181, -0.61215056, -0.5308245 , -0.31012819],\n",
       "       [ 1.0849506 , -0.24672091,  0.7890953 , -0.34358725, -0.25916492],\n",
       "       [ 1.12421175, -0.10934372,  0.00333086,  0.02459524,  0.50952418],\n",
       "       [-0.8927091 , -0.23446607, -0.11919261,  0.80525945, -0.4073241 ],\n",
       "       [-0.86639181, -0.25637249, -0.66269546, -0.49968934, -0.33602319],\n",
       "       [ 1.10376966,  0.90910436,  0.05293043, -0.04737888, -0.07425064],\n",
       "       [ 0.13173917, -0.07093938, -0.00469273,  0.01349657,  0.09460891],\n",
       "       [-0.62360028, -0.08590675, -0.02224285,  0.02670464,  0.08377896],\n",
       "       [ 0.44805893, -0.12882386, -0.02121827,  0.04076828,  0.60251262],\n",
       "       [-0.40866462, -0.27649869,  0.75058256, -0.32021521, -0.27789721],\n",
       "       [-0.97709921, -0.15547044, -0.05677461,  0.06172523,  0.55813732],\n",
       "       [ 0.52718194, -0.22822859, -0.62685428, -0.52100229, -0.31806251],\n",
       "       [-0.0404237 ,  0.8862964 ,  0.02267413, -0.02993718, -0.08825498],\n",
       "       [-0.42999784, -0.22517429, -0.10688301,  0.79793159, -0.40031135],\n",
       "       [ 0.0941814 , -0.21441903, -0.09525243,  0.78896964, -0.39290583],\n",
       "       [ 0.59231182, -0.25632263,  0.77565309, -0.33682482, -0.26420387],\n",
       "       [ 0.84390167,  0.90452901,  0.04688776, -0.0424294 , -0.07794235],\n",
       "       [ 0.71367289, -0.12095455, -0.0119567 ,  0.0336964 ,  0.56535438],\n",
       "       [-0.4360109 , -0.24788136, -0.65023689, -0.50582008, -0.33008744],\n",
       "       [-0.26354841,  0.8816137 ,  0.01875349, -0.02577349, -0.09140066],\n",
       "       [ 0.31718031, -0.21059609, -0.08817849,  0.78601889, -0.39031347],\n",
       "       [ 0.77511417, -0.05806728,  0.01291312,  0.00436843,  0.10210204],\n",
       "       [ 0.17283642, -0.13523807, -0.02956118,  0.04596812,  0.61520901],\n",
       "       [-0.91674003,  0.86863868,  0.00197262, -0.01499658, -0.10069835],\n",
       "       [ 1.11252109, -0.19429379, -0.0688071 ,  0.77277445, -0.37993651],\n",
       "       [-0.27286734, -0.14053079, -0.03617295,  0.04887265,  0.54418981],\n",
       "       [-0.76999604, -0.15139267, -0.05027641,  0.05878623,  0.56122718],\n",
       "       [ 0.29410449, -0.26237236,  0.76846955, -0.33126479, -0.26856073],\n",
       "       [-0.3842153 , -0.08106674, -0.01674801,  0.02250056,  0.08717714],\n",
       "       [-0.90597844, -0.09170214, -0.03061133,  0.03046506,  0.07993353],\n",
       "       [-0.67568464, -0.22989682, -0.11395275,  0.80155598, -0.40378394],\n",
       "       [-0.76401376, -0.28342951,  0.74233333, -0.3140199 , -0.28304551],\n",
       "       [ 1.11868431, -0.11785464, -0.00788542,  0.03148381,  0.65277354],\n",
       "       [ 0.3823672 , -0.06623862,  0.00260372,  0.01002975,  0.09755334],\n",
       "       [ 0.27717438, -0.23371892, -0.63290656, -0.51746982, -0.32056177],\n",
       "       [ 0.81572874, -0.22299876, -0.61984421, -0.52634759, -0.31332018],\n",
       "       [-0.53753357, -0.14259385, -0.03722674,  0.05172615,  0.48765293],\n",
       "       [-0.14878786, -0.27150529,  0.75733511, -0.32446974, -0.27461391],\n",
       "       [-0.22241372, -0.24371604, -0.64494831, -0.50955914, -0.32673347],\n",
       "       [-0.09518285, -0.07566013, -0.00960496,  0.01767843,  0.09122068],\n",
       "       [-0.07769294, -0.14191351, -0.0377907 ,  0.05051253,  0.63749426],\n",
       "       [-0.57937149, -0.27972477,  0.74665393, -0.31722614, -0.28042007],\n",
       "       [-0.64578287, -0.25200541, -0.65645104, -0.50344023, -0.33200821],\n",
       "       [ 0.60991937, -0.20426293, -0.08252028,  0.78044037, -0.38601422],\n",
       "       [ 0.27987173, -0.12682485, -0.016553  ,  0.03869498,  0.49835712],\n",
       "       [ 0.57439715,  0.89855632,  0.03944283, -0.03916809, -0.08063479],\n",
       "       [ 0.18067494,  0.89056268,  0.02872263, -0.03314238, -0.08548374],\n",
       "       [ 0.85791496, -0.25077515,  0.78252448, -0.34015166, -0.26110157],\n",
       "       [-0.48193058,  0.87747154,  0.0132569 , -0.02206663, -0.09449591],\n",
       "       [ 0.92658927, -0.11773727, -0.00799139,  0.03139549,  0.58442854]])"
      ]
     },
     "execution_count": 33,
     "metadata": {},
     "output_type": "execute_result"
    }
   ],
   "source": [
    "# Final locations of the centroid\n",
    "pipe[\"clusterer\"][\"kmeans\"].cluster_centers_"
   ]
  },
  {
   "cell_type": "code",
   "execution_count": 34,
   "id": "f280825a",
   "metadata": {},
   "outputs": [
    {
     "data": {
      "text/plain": [
       "5"
      ]
     },
     "execution_count": 34,
     "metadata": {},
     "output_type": "execute_result"
    }
   ],
   "source": [
    "# The number of iterations required to converge\n",
    "pipe[\"clusterer\"][\"kmeans\"].n_iter_"
   ]
  },
  {
   "cell_type": "code",
   "execution_count": null,
   "id": "94b6c341",
   "metadata": {},
   "outputs": [],
   "source": []
  },
  {
   "cell_type": "markdown",
   "id": "a4d253e6",
   "metadata": {},
   "source": [
    "# 2 AMB CLUSTERING JERARQUIC"
   ]
  },
  {
   "cell_type": "markdown",
   "id": "f0a75fe1",
   "metadata": {},
   "source": [
    "reduccio dimensional mitjançant PCA\n",
    "\n",
    "PRE: ja es disposa de dataset split entre train i test, totalment normalitzat"
   ]
  },
  {
   "cell_type": "code",
   "execution_count": 35,
   "id": "96e862de",
   "metadata": {},
   "outputs": [
    {
     "name": "stdout",
     "output_type": "stream",
     "text": [
      "(249223, 627)\n",
      "(249223,)\n",
      "(996894, 627)\n",
      "(996894,)\n"
     ]
    }
   ],
   "source": [
    "print(train_flights.shape)\n",
    "\n",
    "print(train_delay.shape)\n",
    "\n",
    "print(test_flights.shape)\n",
    "\n",
    "print(test_delay.shape)"
   ]
  },
  {
   "cell_type": "code",
   "execution_count": 36,
   "id": "a3cecf31",
   "metadata": {},
   "outputs": [],
   "source": [
    "pca = PCA(.999)"
   ]
  },
  {
   "cell_type": "code",
   "execution_count": 37,
   "id": "0977079c",
   "metadata": {},
   "outputs": [
    {
     "data": {
      "text/plain": [
       "PCA(n_components=0.9999)"
      ]
     },
     "execution_count": 37,
     "metadata": {},
     "output_type": "execute_result"
    }
   ],
   "source": [
    "#fit al TRAINING SET\n",
    "pca.fit(train_flights)"
   ]
  },
  {
   "cell_type": "code",
   "execution_count": 38,
   "id": "c1929d08",
   "metadata": {},
   "outputs": [
    {
     "data": {
      "text/plain": [
       "586"
      ]
     },
     "execution_count": 38,
     "metadata": {},
     "output_type": "execute_result"
    }
   ],
   "source": [
    "pca.n_components_"
   ]
  },
  {
   "cell_type": "code",
   "execution_count": 39,
   "id": "01f62ccd",
   "metadata": {},
   "outputs": [
    {
     "name": "stdout",
     "output_type": "stream",
     "text": [
      "(249223, 586)\n",
      "(249223,)\n",
      "(996894, 586)\n",
      "(996894,)\n"
     ]
    }
   ],
   "source": [
    "# per extensió aplicar mapping / transform a TRAINING I TEST SETS\n",
    "\n",
    "train_flights = pca.transform(train_flights)\n",
    "test_flights = pca.transform(test_flights)\n",
    "\n",
    "print(train_flights.shape)\n",
    "\n",
    "print(train_delay.shape)\n",
    "\n",
    "print(test_flights.shape)\n",
    "\n",
    "print(test_delay.shape)"
   ]
  },
  {
   "cell_type": "code",
   "execution_count": 40,
   "id": "a1c99b9c",
   "metadata": {},
   "outputs": [],
   "source": [
    "### de 600 a 3 features n' hi ha prou com per reconstruir el 99% de l'espai !!!!!!!!\n",
    "### de 600 a 586 features per fer el 99,99% (modelant el soroll probablement)"
   ]
  },
  {
   "cell_type": "markdown",
   "id": "ab194e59",
   "metadata": {},
   "source": [
    "# havent aplicat les transformacions, es processa el dendrograma"
   ]
  },
  {
   "cell_type": "code",
   "execution_count": 41,
   "id": "f84d3fbc",
   "metadata": {},
   "outputs": [
    {
     "ename": "MemoryError",
     "evalue": "Unable to allocate 231. GiB for an array with shape (31055927253,) and data type float64",
     "output_type": "error",
     "traceback": [
      "\u001b[1;31m---------------------------------------------------------------------------\u001b[0m",
      "\u001b[1;31mMemoryError\u001b[0m                               Traceback (most recent call last)",
      "\u001b[1;32mC:\\Users\\ORIOL~1.GAL\\AppData\\Local\\Temp/ipykernel_13592/1606207300.py\u001b[0m in \u001b[0;36m<module>\u001b[1;34m\u001b[0m\n\u001b[0;32m      2\u001b[0m \u001b[0mplt\u001b[0m\u001b[1;33m.\u001b[0m\u001b[0mfigure\u001b[0m\u001b[1;33m(\u001b[0m\u001b[0mfigsize\u001b[0m\u001b[1;33m=\u001b[0m\u001b[1;33m(\u001b[0m\u001b[1;36m10\u001b[0m\u001b[1;33m,\u001b[0m \u001b[1;36m7\u001b[0m\u001b[1;33m)\u001b[0m\u001b[1;33m)\u001b[0m\u001b[1;33m\u001b[0m\u001b[1;33m\u001b[0m\u001b[0m\n\u001b[0;32m      3\u001b[0m \u001b[0mplt\u001b[0m\u001b[1;33m.\u001b[0m\u001b[0mtitle\u001b[0m\u001b[1;33m(\u001b[0m\u001b[1;34m\"Dendrograms\"\u001b[0m\u001b[1;33m)\u001b[0m\u001b[1;33m\u001b[0m\u001b[1;33m\u001b[0m\u001b[0m\n\u001b[1;32m----> 4\u001b[1;33m \u001b[0mdend\u001b[0m \u001b[1;33m=\u001b[0m \u001b[0mshc\u001b[0m\u001b[1;33m.\u001b[0m\u001b[0mdendrogram\u001b[0m\u001b[1;33m(\u001b[0m\u001b[0mshc\u001b[0m\u001b[1;33m.\u001b[0m\u001b[0mlinkage\u001b[0m\u001b[1;33m(\u001b[0m\u001b[0mtrain_flights\u001b[0m\u001b[1;33m,\u001b[0m \u001b[0mmethod\u001b[0m\u001b[1;33m=\u001b[0m\u001b[1;34m'ward'\u001b[0m\u001b[1;33m)\u001b[0m\u001b[1;33m)\u001b[0m\u001b[1;33m\u001b[0m\u001b[1;33m\u001b[0m\u001b[0m\n\u001b[0m\u001b[0;32m      5\u001b[0m \u001b[1;33m\u001b[0m\u001b[0m\n\u001b[0;32m      6\u001b[0m \u001b[1;31m# no es pot fer un dendrograma ràpid per la seva elevada complexitat de components\u001b[0m\u001b[1;33m\u001b[0m\u001b[1;33m\u001b[0m\u001b[1;33m\u001b[0m\u001b[0m\n",
      "\u001b[1;32mC:\\ProgramData\\Anaconda3\\lib\\site-packages\\scipy\\cluster\\hierarchy.py\u001b[0m in \u001b[0;36mlinkage\u001b[1;34m(y, method, metric, optimal_ordering)\u001b[0m\n\u001b[0;32m   1058\u001b[0m                          \u001b[1;34m'matrix looks suspiciously like an uncondensed '\u001b[0m\u001b[1;33m\u001b[0m\u001b[1;33m\u001b[0m\u001b[0m\n\u001b[0;32m   1059\u001b[0m                          'distance matrix')\n\u001b[1;32m-> 1060\u001b[1;33m         \u001b[0my\u001b[0m \u001b[1;33m=\u001b[0m \u001b[0mdistance\u001b[0m\u001b[1;33m.\u001b[0m\u001b[0mpdist\u001b[0m\u001b[1;33m(\u001b[0m\u001b[0my\u001b[0m\u001b[1;33m,\u001b[0m \u001b[0mmetric\u001b[0m\u001b[1;33m)\u001b[0m\u001b[1;33m\u001b[0m\u001b[1;33m\u001b[0m\u001b[0m\n\u001b[0m\u001b[0;32m   1061\u001b[0m     \u001b[1;32melse\u001b[0m\u001b[1;33m:\u001b[0m\u001b[1;33m\u001b[0m\u001b[1;33m\u001b[0m\u001b[0m\n\u001b[0;32m   1062\u001b[0m         \u001b[1;32mraise\u001b[0m \u001b[0mValueError\u001b[0m\u001b[1;33m(\u001b[0m\u001b[1;34m\"`y` must be 1 or 2 dimensional.\"\u001b[0m\u001b[1;33m)\u001b[0m\u001b[1;33m\u001b[0m\u001b[1;33m\u001b[0m\u001b[0m\n",
      "\u001b[1;32mC:\\ProgramData\\Anaconda3\\lib\\site-packages\\scipy\\spatial\\distance.py\u001b[0m in \u001b[0;36mpdist\u001b[1;34m(X, metric, out, **kwargs)\u001b[0m\n\u001b[0;32m   2248\u001b[0m         \u001b[1;32mif\u001b[0m \u001b[0mmetric_info\u001b[0m \u001b[1;32mis\u001b[0m \u001b[1;32mnot\u001b[0m \u001b[1;32mNone\u001b[0m\u001b[1;33m:\u001b[0m\u001b[1;33m\u001b[0m\u001b[1;33m\u001b[0m\u001b[0m\n\u001b[0;32m   2249\u001b[0m             \u001b[0mpdist_fn\u001b[0m \u001b[1;33m=\u001b[0m \u001b[0mmetric_info\u001b[0m\u001b[1;33m.\u001b[0m\u001b[0mpdist_func\u001b[0m\u001b[1;33m\u001b[0m\u001b[1;33m\u001b[0m\u001b[0m\n\u001b[1;32m-> 2250\u001b[1;33m             \u001b[1;32mreturn\u001b[0m \u001b[0mpdist_fn\u001b[0m\u001b[1;33m(\u001b[0m\u001b[0mX\u001b[0m\u001b[1;33m,\u001b[0m \u001b[0mout\u001b[0m\u001b[1;33m=\u001b[0m\u001b[0mout\u001b[0m\u001b[1;33m,\u001b[0m \u001b[1;33m**\u001b[0m\u001b[0mkwargs\u001b[0m\u001b[1;33m)\u001b[0m\u001b[1;33m\u001b[0m\u001b[1;33m\u001b[0m\u001b[0m\n\u001b[0m\u001b[0;32m   2251\u001b[0m         \u001b[1;32melif\u001b[0m \u001b[0mmstr\u001b[0m\u001b[1;33m.\u001b[0m\u001b[0mstartswith\u001b[0m\u001b[1;33m(\u001b[0m\u001b[1;34m\"test_\"\u001b[0m\u001b[1;33m)\u001b[0m\u001b[1;33m:\u001b[0m\u001b[1;33m\u001b[0m\u001b[1;33m\u001b[0m\u001b[0m\n\u001b[0;32m   2252\u001b[0m             \u001b[0mmetric_info\u001b[0m \u001b[1;33m=\u001b[0m \u001b[0m_TEST_METRICS\u001b[0m\u001b[1;33m.\u001b[0m\u001b[0mget\u001b[0m\u001b[1;33m(\u001b[0m\u001b[0mmstr\u001b[0m\u001b[1;33m,\u001b[0m \u001b[1;32mNone\u001b[0m\u001b[1;33m)\u001b[0m\u001b[1;33m\u001b[0m\u001b[1;33m\u001b[0m\u001b[0m\n",
      "\u001b[1;31mMemoryError\u001b[0m: Unable to allocate 231. GiB for an array with shape (31055927253,) and data type float64"
     ]
    },
    {
     "data": {
      "image/png": "[encoded data removed]",
      "text/plain": [
       "<Figure size 720x504 with 1 Axes>"
      ]
     },
     "metadata": {
      "needs_background": "light"
     },
     "output_type": "display_data"
    }
   ],
   "source": [
    "import scipy.cluster.hierarchy as shc\n",
    "plt.figure(figsize=(10, 7))  \n",
    "plt.title(\"Dendrograms\")  \n",
    "dend = shc.dendrogram(shc.linkage(train_flights, method='ward'))\n",
    "\n",
    "# no es pot fer un dendrograma ràpid per la seva elevada complexitat de components\n",
    "#cal reduir l'espai amb una PCA, com anteriorment."
   ]
  },
  {
   "cell_type": "code",
   "execution_count": null,
   "id": "240cebef",
   "metadata": {},
   "outputs": [],
   "source": [
    "from sklearn.cluster import AgglomerativeClustering\n",
    "cluster = AgglomerativeClustering(n_clusters=50, affinity='euclidean', linkage='ward')  \n",
    "cluster.fit_predict(train_flights)"
   ]
  },
  {
   "cell_type": "code",
   "execution_count": null,
   "id": "ec686a6e",
   "metadata": {},
   "outputs": [],
   "source": [
    "plt.figure(figsize=(42, 14))  \n",
    "plt.scatter(data_scaled['PCA1'], data_scaled['PCA2'], c=cluster.labels_, cmap=hsv) #cmap=hsv"
   ]
  },
  {
   "cell_type": "code",
   "execution_count": null,
   "id": "906e4915",
   "metadata": {},
   "outputs": [],
   "source": []
  },
  {
   "cell_type": "code",
   "execution_count": null,
   "id": "33b4495a",
   "metadata": {},
   "outputs": [],
   "source": []
  }
 ],
 "metadata": {
  "kernelspec": {
   "display_name": "Python 3 (ipykernel)",
   "language": "python",
   "name": "python3"
  },
  "language_info": {
   "codemirror_mode": {
    "name": "ipython",
    "version": 3
   },
   "file_extension": ".py",
   "mimetype": "text/x-python",
   "name": "python",
   "nbconvert_exporter": "python",
   "pygments_lexer": "ipython3",
   "version": "3.8.8"
  }
 },
 "nbformat": 4,
 "nbformat_minor": 5
}
